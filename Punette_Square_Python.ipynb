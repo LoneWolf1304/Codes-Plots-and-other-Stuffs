{
 "cells": [
  {
   "cell_type": "code",
   "execution_count": 7,
   "metadata": {},
   "outputs": [],
   "source": [
    "import numpy as np\n",
    "def punett(A,B,n):\n",
    "\tAn=[]\n",
    "\tBn=[]\n",
    "\tfor j in np.arange(0,2*n,2):\n",
    "\t\tAn.append(\"\".join(([i for i in A[j:j+2]])))\n",
    "\tfor j in np.arange(0,2*n,2):\n",
    "\t\tBn.append(\"\".join(([i for i in B[j:j+2]])))\n",
    "\tprint(\"The gametes are:\")\n",
    "\tprint()\n",
    "\tif(n>1):\n",
    "\t\tcomb1=[i+j for i in An[0] for j in An[1]]\n",
    "\t\tcomb2=[i+j for i in An[0] for j in Bn[1]]\n",
    "\t\n",
    "\t\tfor k in range(1,n-1):\n",
    "\t\t\tcomb1=[i+j for i in comb1 for j in An[k+1]]\n",
    "\t\t\tcomb2=[i+j for i in comb2 for j in Bn[k+1]]\n",
    "\t\tprint(comb1)\n",
    "\t\tprint(comb2)\n",
    "\t\tgen=[i+j for i in comb1 for j in comb2]\n",
    "\t\tmt=[[\"\"]*len(comb2)]*len(comb1)\n",
    "\telse:\n",
    "\t\tp=An[0]\n",
    "\t\tq=Bn[0]\n",
    "\t\tprint(list(A))\n",
    "\t\tprint(list(B))\n",
    "\t\tgen=[i+j for i in p for j in q]\n",
    "\t\tmt=[[\"\"]*2]*2\n",
    "\ta=0\n",
    "\tunique={}\n",
    "\tprint()\n",
    "\tprint(\"Punette Square:\")\n",
    "\tprint()\n",
    "\n",
    "\tfor i in range(len(mt)):\n",
    "\t\tfor j in range(len(mt[0])):\n",
    "\t\t\tx=sort_gen(\"\".join(sorted(gen[a], key=str.casefold)))\n",
    "\t\t\tprint(x, end=\" \")\n",
    "\t\t\tunique.update({x: 0})\n",
    "\t\t\ta+=1\n",
    "\t\tprint()\n",
    "\ta=0\n",
    "\tfor i in range(len(mt)):\n",
    "\t\tfor j in range(len(mt[0])):\n",
    "\t\t\tunique.update({sort_gen(\"\".join(sorted(gen[a],key=str.casefold))): unique[sort_gen(\"\".join(sorted(gen[a], key=str.casefold)))]+1})\n",
    "\t\t\ta+=1\n",
    "\tprint()\n",
    "\tprint(\"Genotypic Ratio:\")\n",
    "\tprint(unique)\n",
    "\t\n",
    "def sort_gen(s):\n",
    "\tp=\"\"\n",
    "\tn=len(s)\n",
    "\tfor j in np.arange(0,n,2):\n",
    "\t\tns=s[j:j+2]\n",
    "\t\tp+=\"\".join(sorted(ns))\n",
    "\treturn p"
   ]
  },
  {
   "cell_type": "code",
   "execution_count": 8,
   "metadata": {},
   "outputs": [
    {
     "name": "stdout",
     "output_type": "stream",
     "text": [
      "The gametes are:\n",
      "\n",
      "['R', 'r']\n",
      "['r', 'r']\n",
      "\n",
      "Punette Square:\n",
      "\n",
      "Rr Rr \n",
      "rr rr \n",
      "\n",
      "Genotypic Ratio:\n",
      "{'Rr': 2, 'rr': 2}\n"
     ]
    }
   ],
   "source": [
    "#For Monohybrid Cross\n",
    "g1='Rr'\n",
    "g2='rr'\n",
    "punett(g1,g2,1)"
   ]
  },
  {
   "cell_type": "code",
   "execution_count": 9,
   "metadata": {},
   "outputs": [
    {
     "name": "stdout",
     "output_type": "stream",
     "text": [
      "The gametes are:\n",
      "\n",
      "['YR', 'Yr', 'yR', 'yr']\n",
      "['Yr', 'Yr', 'yr', 'yr']\n",
      "\n",
      "Punette Square:\n",
      "\n",
      "RrYY RrYY RrYy RrYy \n",
      "rrYY rrYY rrYy rrYy \n",
      "RrYy RrYy Rryy Rryy \n",
      "rrYy rrYy rryy rryy \n",
      "\n",
      "Genotypic Ratio:\n",
      "{'RrYY': 2, 'RrYy': 4, 'rrYY': 2, 'rrYy': 4, 'Rryy': 2, 'rryy': 2}\n"
     ]
    }
   ],
   "source": [
    "#For Dihybrid Cross\n",
    "g1='YyRr'\n",
    "g2='YYrr'\n",
    "punett(g1,g2,2)"
   ]
  },
  {
   "cell_type": "code",
   "execution_count": 10,
   "metadata": {},
   "outputs": [
    {
     "name": "stdout",
     "output_type": "stream",
     "text": [
      "The gametes are:\n",
      "\n",
      "['YRT', 'YRt', 'YrT', 'Yrt', 'yRT', 'yRt', 'yrT', 'yrt']\n",
      "['YrT', 'YrT', 'YrT', 'YrT', 'yrT', 'yrT', 'yrT', 'yrT']\n",
      "\n",
      "Punette Square:\n",
      "\n",
      "RrTTYY RrTTYY RrTTYY RrTTYY RrTTYy RrTTYy RrTTYy RrTTYy \n",
      "RrTtYY RrTtYY RrTtYY RrTtYY RrTtYy RrTtYy RrTtYy RrTtYy \n",
      "rrTTYY rrTTYY rrTTYY rrTTYY rrTTYy rrTTYy rrTTYy rrTTYy \n",
      "rrTtYY rrTtYY rrTtYY rrTtYY rrTtYy rrTtYy rrTtYy rrTtYy \n",
      "RrTTYy RrTTYy RrTTYy RrTTYy RrTTyy RrTTyy RrTTyy RrTTyy \n",
      "RrTtYy RrTtYy RrTtYy RrTtYy RrTtyy RrTtyy RrTtyy RrTtyy \n",
      "rrTTYy rrTTYy rrTTYy rrTTYy rrTTyy rrTTyy rrTTyy rrTTyy \n",
      "rrTtYy rrTtYy rrTtYy rrTtYy rrTtyy rrTtyy rrTtyy rrTtyy \n",
      "\n",
      "Genotypic Ratio:\n",
      "{'RrTTYY': 4, 'RrTTYy': 8, 'RrTtYY': 4, 'RrTtYy': 8, 'rrTTYY': 4, 'rrTTYy': 8, 'rrTtYY': 4, 'rrTtYy': 8, 'RrTTyy': 4, 'RrTtyy': 4, 'rrTTyy': 4, 'rrTtyy': 4}\n"
     ]
    }
   ],
   "source": [
    "#For Trihybrid Cross\n",
    "g1='YyRrTt'\n",
    "g2='YYrrTT'\n",
    "punett(g1,g2,3)"
   ]
  },
  {
   "cell_type": "code",
   "execution_count": 11,
   "metadata": {},
   "outputs": [
    {
     "name": "stdout",
     "output_type": "stream",
     "text": [
      "Parents are:  AaBbCcDd AABBccDd\n",
      "The gametes are:\n",
      "\n",
      "['ABCD', 'ABCd', 'ABcD', 'ABcd', 'AbCD', 'AbCd', 'AbcD', 'Abcd', 'aBCD', 'aBCd', 'aBcD', 'aBcd', 'abCD', 'abCd', 'abcD', 'abcd']\n",
      "['ABcD', 'ABcd', 'ABcD', 'ABcd', 'ABcD', 'ABcd', 'ABcD', 'ABcd', 'aBcD', 'aBcd', 'aBcD', 'aBcd', 'aBcD', 'aBcd', 'aBcD', 'aBcd']\n",
      "\n",
      "Punette Square:\n",
      "\n",
      "AABBCcDD AABBCcDd AABBCcDD AABBCcDd AABBCcDD AABBCcDd AABBCcDD AABBCcDd AaBBCcDD AaBBCcDd AaBBCcDD AaBBCcDd AaBBCcDD AaBBCcDd AaBBCcDD AaBBCcDd \n",
      "AABBCcDd AABBCcdd AABBCcDd AABBCcdd AABBCcDd AABBCcdd AABBCcDd AABBCcdd AaBBCcDd AaBBCcdd AaBBCcDd AaBBCcdd AaBBCcDd AaBBCcdd AaBBCcDd AaBBCcdd \n",
      "AABBccDD AABBccDd AABBccDD AABBccDd AABBccDD AABBccDd AABBccDD AABBccDd AaBBccDD AaBBccDd AaBBccDD AaBBccDd AaBBccDD AaBBccDd AaBBccDD AaBBccDd \n",
      "AABBccDd AABBccdd AABBccDd AABBccdd AABBccDd AABBccdd AABBccDd AABBccdd AaBBccDd AaBBccdd AaBBccDd AaBBccdd AaBBccDd AaBBccdd AaBBccDd AaBBccdd \n",
      "AABbCcDD AABbCcDd AABbCcDD AABbCcDd AABbCcDD AABbCcDd AABbCcDD AABbCcDd AaBbCcDD AaBbCcDd AaBbCcDD AaBbCcDd AaBbCcDD AaBbCcDd AaBbCcDD AaBbCcDd \n",
      "AABbCcDd AABbCcdd AABbCcDd AABbCcdd AABbCcDd AABbCcdd AABbCcDd AABbCcdd AaBbCcDd AaBbCcdd AaBbCcDd AaBbCcdd AaBbCcDd AaBbCcdd AaBbCcDd AaBbCcdd \n",
      "AABbccDD AABbccDd AABbccDD AABbccDd AABbccDD AABbccDd AABbccDD AABbccDd AaBbccDD AaBbccDd AaBbccDD AaBbccDd AaBbccDD AaBbccDd AaBbccDD AaBbccDd \n",
      "AABbccDd AABbccdd AABbccDd AABbccdd AABbccDd AABbccdd AABbccDd AABbccdd AaBbccDd AaBbccdd AaBbccDd AaBbccdd AaBbccDd AaBbccdd AaBbccDd AaBbccdd \n",
      "AaBBCcDD AaBBCcDd AaBBCcDD AaBBCcDd AaBBCcDD AaBBCcDd AaBBCcDD AaBBCcDd aaBBCcDD aaBBCcDd aaBBCcDD aaBBCcDd aaBBCcDD aaBBCcDd aaBBCcDD aaBBCcDd \n",
      "AaBBCcDd AaBBCcdd AaBBCcDd AaBBCcdd AaBBCcDd AaBBCcdd AaBBCcDd AaBBCcdd aaBBCcDd aaBBCcdd aaBBCcDd aaBBCcdd aaBBCcDd aaBBCcdd aaBBCcDd aaBBCcdd \n",
      "AaBBccDD AaBBccDd AaBBccDD AaBBccDd AaBBccDD AaBBccDd AaBBccDD AaBBccDd aaBBccDD aaBBccDd aaBBccDD aaBBccDd aaBBccDD aaBBccDd aaBBccDD aaBBccDd \n",
      "AaBBccDd AaBBccdd AaBBccDd AaBBccdd AaBBccDd AaBBccdd AaBBccDd AaBBccdd aaBBccDd aaBBccdd aaBBccDd aaBBccdd aaBBccDd aaBBccdd aaBBccDd aaBBccdd \n",
      "AaBbCcDD AaBbCcDd AaBbCcDD AaBbCcDd AaBbCcDD AaBbCcDd AaBbCcDD AaBbCcDd aaBbCcDD aaBbCcDd aaBbCcDD aaBbCcDd aaBbCcDD aaBbCcDd aaBbCcDD aaBbCcDd \n",
      "AaBbCcDd AaBbCcdd AaBbCcDd AaBbCcdd AaBbCcDd AaBbCcdd AaBbCcDd AaBbCcdd aaBbCcDd aaBbCcdd aaBbCcDd aaBbCcdd aaBbCcDd aaBbCcdd aaBbCcDd aaBbCcdd \n",
      "AaBbccDD AaBbccDd AaBbccDD AaBbccDd AaBbccDD AaBbccDd AaBbccDD AaBbccDd aaBbccDD aaBbccDd aaBbccDD aaBbccDd aaBbccDD aaBbccDd aaBbccDD aaBbccDd \n",
      "AaBbccDd AaBbccdd AaBbccDd AaBbccdd AaBbccDd AaBbccdd AaBbccDd AaBbccdd aaBbccDd aaBbccdd aaBbccDd aaBbccdd aaBbccDd aaBbccdd aaBbccDd aaBbccdd \n",
      "\n",
      "Genotypic Ratio:\n",
      "{'AABBCcDD': 4, 'AABBCcDd': 8, 'AaBBCcDD': 8, 'AaBBCcDd': 16, 'AABBCcdd': 4, 'AaBBCcdd': 8, 'AABBccDD': 4, 'AABBccDd': 8, 'AaBBccDD': 8, 'AaBBccDd': 16, 'AABBccdd': 4, 'AaBBccdd': 8, 'AABbCcDD': 4, 'AABbCcDd': 8, 'AaBbCcDD': 8, 'AaBbCcDd': 16, 'AABbCcdd': 4, 'AaBbCcdd': 8, 'AABbccDD': 4, 'AABbccDd': 8, 'AaBbccDD': 8, 'AaBbccDd': 16, 'AABbccdd': 4, 'AaBbccdd': 8, 'aaBBCcDD': 4, 'aaBBCcDd': 8, 'aaBBCcdd': 4, 'aaBBccDD': 4, 'aaBBccDd': 8, 'aaBBccdd': 4, 'aaBbCcDD': 4, 'aaBbCcDd': 8, 'aaBbCcdd': 4, 'aaBbccDD': 4, 'aaBbccDd': 8, 'aaBbccdd': 4}\n"
     ]
    }
   ],
   "source": [
    "#For any arbitrary n-gene cross\n",
    "A=input(\"Enter genotype 1:\")\n",
    "B=input(\"Enter genotype 2:\")\n",
    "print(\"Parents are: \", A,B)\n",
    "punett(A,B,int(len(A)/2))"
   ]
  },
  {
   "cell_type": "code",
   "execution_count": null,
   "metadata": {},
   "outputs": [],
   "source": []
  },
  {
   "cell_type": "code",
   "execution_count": null,
   "metadata": {},
   "outputs": [],
   "source": []
  },
  {
   "cell_type": "code",
   "execution_count": null,
   "metadata": {},
   "outputs": [],
   "source": []
  }
 ],
 "metadata": {
  "kernelspec": {
   "display_name": "Python 3",
   "language": "python",
   "name": "python3"
  },
  "language_info": {
   "codemirror_mode": {
    "name": "ipython",
    "version": 3
   },
   "file_extension": ".py",
   "mimetype": "text/x-python",
   "name": "python",
   "nbconvert_exporter": "python",
   "pygments_lexer": "ipython3",
   "version": "3.10.12"
  }
 },
 "nbformat": 4,
 "nbformat_minor": 2
}
