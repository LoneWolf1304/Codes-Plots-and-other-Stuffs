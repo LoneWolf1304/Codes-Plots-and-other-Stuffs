{
 "cells": [
  {
   "cell_type": "code",
   "execution_count": 23,
   "metadata": {},
   "outputs": [],
   "source": [
    "import numpy as np\n",
    "def punett(A,B,n):\n",
    "\tAn=[]\n",
    "\tBn=[]\n",
    "\tfor j in np.arange(0,2*n,2):\n",
    "\t\tAn.append(\"\".join(([i for i in A[j:j+2]])))\n",
    "\tfor j in np.arange(0,2*n,2):\n",
    "\t\tBn.append(\"\".join(([i for i in B[j:j+2]])))\n",
    "\tprint(\"The gametes are:\")\n",
    "\tprint()\n",
    "\tif(n>1):\n",
    "\t\tcomb1=[i+j for i in An[0] for j in An[1]]\n",
    "\t\tcomb2=[i+j for i in An[0] for j in Bn[1]]\n",
    "\t\n",
    "\t\tfor k in range(1,n-1):\n",
    "\t\t\tcomb1=[i+j for i in comb1 for j in An[k+1]]\n",
    "\t\t\tcomb2=[i+j for i in comb2 for j in Bn[k+1]]\n",
    "\t\tprint(comb1)\n",
    "\t\tprint(comb2)\n",
    "\t\tgen=[i+j for i in comb1 for j in comb2]\n",
    "\t\tmt=[[\"\"]*len(comb2)]*len(comb1)\n",
    "\telse:\n",
    "\t\tp=An[0]\n",
    "\t\tq=Bn[0]\n",
    "\t\tprint(list(A))\n",
    "\t\tprint(list(B))\n",
    "\t\tgen=[i+j for i in p for j in q]\n",
    "\t\tmt=[[\"\"]*2]*2\n",
    "\ta=0\n",
    "\tunique={}\n",
    "\tprint()\n",
    "\tprint(\"Punette Square:\")\n",
    "\tprint()\n",
    "\n",
    "\tfor i in range(len(mt)):\n",
    "\t\tfor j in range(len(mt[0])):\n",
    "\t\t\tx=sort_gen(\"\".join(sorted(gen[a])))\n",
    "\t\t\tprint(x, end=\" \")\n",
    "\t\t\tunique.update({x: 0})\n",
    "\t\t\ta+=1\n",
    "\t\tprint()\n",
    "\ta=0\n",
    "\tfor i in range(len(mt)):\n",
    "\t\tfor j in range(len(mt[0])):\n",
    "\t\t\tunique.update({sort_gen(\"\".join(sorted(gen[a]))): unique[sort_gen(\"\".join(sorted(gen[a])))]+1})\n",
    "\t\t\ta+=1\n",
    "\tprint()\n",
    "\tprint(\"Genotypic Ratio:\")\n",
    "\tprint(unique)\n",
    "\t\n",
    "def sort_gen(s):\n",
    "\tp=\"\"\n",
    "\tn=len(s)\n",
    "\tfor j in np.arange(0,n,2):\n",
    "\t\tns=s[j:j+2]\n",
    "\t\tp+=\"\".join(sorted(ns))\n",
    "\treturn p"
   ]
  },
  {
   "cell_type": "code",
   "execution_count": 24,
   "metadata": {},
   "outputs": [
    {
     "name": "stdout",
     "output_type": "stream",
     "text": [
      "The gametes are:\n",
      "\n",
      "['R', 'r']\n",
      "['r', 'r']\n",
      "\n",
      "Punette Square:\n",
      "\n",
      "Rr Rr \n",
      "rr rr \n",
      "\n",
      "Genotypic Ratio:\n",
      "{'Rr': 2, 'rr': 2}\n"
     ]
    }
   ],
   "source": [
    "#For Monohybrid Cross\n",
    "g1='Rr'\n",
    "g2='rr'\n",
    "punett(g1,g2,1)"
   ]
  },
  {
   "cell_type": "code",
   "execution_count": 25,
   "metadata": {},
   "outputs": [
    {
     "name": "stdout",
     "output_type": "stream",
     "text": [
      "The gametes are:\n",
      "\n",
      "['YR', 'Yr', 'yR', 'yr']\n",
      "['Yr', 'Yr', 'yr', 'yr']\n",
      "\n",
      "Punette Square:\n",
      "\n",
      "RYYr RYYr RYry RYry \n",
      "YYrr YYrr Yrry Yrry \n",
      "RYry RYry Rryy Rryy \n",
      "Yrry Yrry rryy rryy \n",
      "\n",
      "Genotypic Ratio:\n",
      "{'RYYr': 2, 'RYry': 4, 'YYrr': 2, 'Yrry': 4, 'Rryy': 2, 'rryy': 2}\n"
     ]
    }
   ],
   "source": [
    "#For Dihybrid Cross\n",
    "g1='YyRr'\n",
    "g2='YYrr'\n",
    "punett(g1,g2,2)"
   ]
  },
  {
   "cell_type": "code",
   "execution_count": 26,
   "metadata": {},
   "outputs": [
    {
     "name": "stdout",
     "output_type": "stream",
     "text": [
      "The gametes are:\n",
      "\n",
      "['YRT', 'YRt', 'YrT', 'Yrt', 'yRT', 'yRt', 'yrT', 'yrt']\n",
      "['YrT', 'YrT', 'YrT', 'YrT', 'yrT', 'yrT', 'yrT', 'yrT']\n",
      "\n",
      "Punette Square:\n",
      "\n",
      "RTTYYr RTTYYr RTTYYr RTTYYr RTTYry RTTYry RTTYry RTTYry \n",
      "RTYYrt RTYYrt RTYYrt RTYYrt RTYrty RTYrty RTYrty RTYrty \n",
      "TTYYrr TTYYrr TTYYrr TTYYrr TTYrry TTYrry TTYrry TTYrry \n",
      "TYYrrt TYYrrt TYYrrt TYYrrt TYrrty TYrrty TYrrty TYrrty \n",
      "RTTYry RTTYry RTTYry RTTYry RTTryy RTTryy RTTryy RTTryy \n",
      "RTYrty RTYrty RTYrty RTYrty RTrtyy RTrtyy RTrtyy RTrtyy \n",
      "TTYrry TTYrry TTYrry TTYrry TTrryy TTrryy TTrryy TTrryy \n",
      "TYrrty TYrrty TYrrty TYrrty Trrtyy Trrtyy Trrtyy Trrtyy \n",
      "\n",
      "Genotypic Ratio:\n",
      "{'RTTYYr': 4, 'RTTYry': 8, 'RTYYrt': 4, 'RTYrty': 8, 'TTYYrr': 4, 'TTYrry': 8, 'TYYrrt': 4, 'TYrrty': 8, 'RTTryy': 4, 'RTrtyy': 4, 'TTrryy': 4, 'Trrtyy': 4}\n"
     ]
    }
   ],
   "source": [
    "#For Trihybrid Cross\n",
    "g1='YyRrTt'\n",
    "g2='YYrrTT'\n",
    "punett(g1,g2,3)"
   ]
  },
  {
   "cell_type": "code",
   "execution_count": 28,
   "metadata": {},
   "outputs": [
    {
     "name": "stdout",
     "output_type": "stream",
     "text": [
      "The gametes are:\n",
      "\n",
      "['ABC', 'ABc', 'AbC', 'Abc', 'aBC', 'aBc', 'abC', 'abc']\n",
      "['ABC', 'ABc', 'AbC', 'Abc', 'aBC', 'aBc', 'abC', 'abc']\n",
      "\n",
      "Punette Square:\n",
      "\n",
      "AABBCC AABBCc AABCCb AABCbc ABBCCa ABBCac ABCCab ABCabc \n",
      "AABBCc AABBcc AABCbc AABbcc ABBCac ABBacc ABCabc ABabcc \n",
      "AABCCb AABCbc AACCbb AACbbc ABCCab ABCabc ACCabb ACabbc \n",
      "AABCbc AABbcc AACbbc AAbbcc ABCabc ABabcc ACabbc Aabbcc \n",
      "ABBCCa ABBCac ABCCab ABCabc BBCCaa BBCaac BCCaab BCaabc \n",
      "ABBCac ABBacc ABCabc ABabcc BBCaac BBaacc BCaabc Baabcc \n",
      "ABCCab ABCabc ACCabb ACabbc BCCaab BCaabc CCaabb Caabbc \n",
      "ABCabc ABabcc ACabbc Aabbcc BCaabc Baabcc Caabbc aabbcc \n",
      "\n",
      "Genotypic Ratio:\n",
      "{'AABBCC': 1, 'AABBCc': 2, 'AABCCb': 2, 'AABCbc': 4, 'ABBCCa': 2, 'ABBCac': 4, 'ABCCab': 4, 'ABCabc': 8, 'AABBcc': 1, 'AABbcc': 2, 'ABBacc': 2, 'ABabcc': 4, 'AACCbb': 1, 'AACbbc': 2, 'ACCabb': 2, 'ACabbc': 4, 'AAbbcc': 1, 'Aabbcc': 2, 'BBCCaa': 1, 'BBCaac': 2, 'BCCaab': 2, 'BCaabc': 4, 'BBaacc': 1, 'Baabcc': 2, 'CCaabb': 1, 'Caabbc': 2, 'aabbcc': 1}\n"
     ]
    }
   ],
   "source": [
    "#For any arbitrary n-gene cross\n",
    "A=input(\"Enter genotype 1:\")\n",
    "B=input(\"Enter genotype 2:\")\n",
    "punett(A,B,int(len(A)/2))"
   ]
  },
  {
   "cell_type": "code",
   "execution_count": null,
   "metadata": {},
   "outputs": [],
   "source": []
  },
  {
   "cell_type": "code",
   "execution_count": null,
   "metadata": {},
   "outputs": [],
   "source": []
  },
  {
   "cell_type": "code",
   "execution_count": null,
   "metadata": {},
   "outputs": [],
   "source": []
  }
 ],
 "metadata": {
  "kernelspec": {
   "display_name": "Python 3",
   "language": "python",
   "name": "python3"
  },
  "language_info": {
   "codemirror_mode": {
    "name": "ipython",
    "version": 3
   },
   "file_extension": ".py",
   "mimetype": "text/x-python",
   "name": "python",
   "nbconvert_exporter": "python",
   "pygments_lexer": "ipython3",
   "version": "3.10.12"
  }
 },
 "nbformat": 4,
 "nbformat_minor": 2
}
